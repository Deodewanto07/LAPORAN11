{
 "cells": [
  {
   "cell_type": "code",
   "execution_count": 1,
   "metadata": {},
   "outputs": [
    {
     "name": "stdout",
     "output_type": "stream",
     "text": [
      "key values items\n",
      "1   10     1\n",
      "2   20     2\n",
      "3   30     3\n",
      "4   40     4\n",
      "5   50     5\n",
      "6   60     6\n"
     ]
    }
   ],
   "source": [
    " #latihan 1\n",
    "dict_nilai = {1:10, 2:20, 3:30, 4:40, 5:50, 6:60}\n",
    "nomor = 1\n",
    "print('key', 'values', 'items')\n",
    "for key, values in dict_nilai.items():\n",
    "    print(key ,' ',values,'   ', nomor)\n",
    "    nomor += 1"
   ]
  },
  {
   "cell_type": "code",
   "execution_count": 5,
   "metadata": {},
   "outputs": [
    {
     "name": "stdout",
     "output_type": "stream",
     "text": [
      "Value Error!\n",
      "{'red': '#FF0000', 'green': '#008000', 'blue': '#0000FF'}\n"
     ]
    }
   ],
   "source": [
    "#latihan 2\n",
    "datalist1 = ['red', 'green', 'blue']\n",
    "datalist2 = ['#FF0000','#008000','#0000FF']\n",
    "d = dict()\n",
    "if datalist1 != datalist2:\n",
    "    print('Value Error!')\n",
    "for key, value in zip(datalist1, datalist2):\n",
    "    d[key] = value\n",
    "print(d)"
   ]
  },
  {
   "cell_type": "code",
   "execution_count": 6,
   "metadata": {},
   "outputs": [
    {
     "name": "stdout",
     "output_type": "stream",
     "text": [
      "{'stephen.marquard@uct.ac.za': 2, 'louis@media.berkeley.edu': 3, 'zqian@umich.edu': 4, 'rjlowe@iupui.edu': 2, 'cwen@iupui.edu': 5, 'gsilver@umich.edu': 3, 'wagnermr@iupui.edu': 1, 'antranig@caret.cam.ac.uk': 1, 'gopal.ramasammycook@gmail.com': 1, 'david.horwitz@uct.ac.za': 4, 'ray@media.berkeley.edu': 1}\n"
     ]
    }
   ],
   "source": [
    "#latihan 3\n",
    "def bacalog(filename):\n",
    "    email_= {}\n",
    "    pesan = 0\n",
    "\n",
    "    with open(filename, 'r') as file:\n",
    "        for line in file:\n",
    "            if line.startswith('From '):\n",
    "                email = line.split()[1]\n",
    "                email_[email] = email_.get(email, 0) + 1\n",
    "                pesan += 1\n",
    "\n",
    "    return email_, pesan\n",
    "\n",
    "def main():\n",
    "    bacalog2=input(\"Masukkan nama file: \")\n",
    "    email_, pesan  = bacalog(bacalog2)\n",
    "    \n",
    "    print(email_)\n",
    "    \n",
    "\n",
    "if __name__ == \"__main__\":\n",
    "    main()"
   ]
  },
  {
   "cell_type": "code",
   "execution_count": 8,
   "metadata": {},
   "outputs": [
    {
     "name": "stdout",
     "output_type": "stream",
     "text": [
      "{'uct.ac.za': 6, 'media.berkeley.edu': 4, 'umich.edu': 7, 'iupui.edu': 8, 'caret.cam.ac.uk': 1, 'gmail.com': 1}\n"
     ]
    }
   ],
   "source": [
    "#latihan 4\n",
    "def menghitung_email(email):\n",
    "    return email.split('@')[-1]\n",
    "\n",
    "def menghitung_email1(filename):\n",
    "    counts = {}\n",
    "\n",
    "    with open(filename, 'r') as file:\n",
    "        for line in file:\n",
    "            if line.startswith('From '):\n",
    "                email = line.split()[1]\n",
    "                awal = menghitung_email(email)\n",
    "                counts[awal] = counts.get(awal, 0) + 1\n",
    "\n",
    "    return counts\n",
    "\n",
    "filename = input(\"Masukkan nama file: \")\n",
    "counts = menghitung_email1(filename)\n",
    "\n",
    "print(counts)"
   ]
  }
 ],
 "metadata": {
  "kernelspec": {
   "display_name": "Python 3",
   "language": "python",
   "name": "python3"
  },
  "language_info": {
   "codemirror_mode": {
    "name": "ipython",
    "version": 3
   },
   "file_extension": ".py",
   "mimetype": "text/x-python",
   "name": "python",
   "nbconvert_exporter": "python",
   "pygments_lexer": "ipython3",
   "version": "3.12.2"
  },
  "orig_nbformat": 4
 },
 "nbformat": 4,
 "nbformat_minor": 2
}
